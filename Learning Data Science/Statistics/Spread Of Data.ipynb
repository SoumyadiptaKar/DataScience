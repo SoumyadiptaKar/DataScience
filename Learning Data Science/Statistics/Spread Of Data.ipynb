{
 "cells": [
  {
   "cell_type": "markdown",
   "id": "8ed22a84",
   "metadata": {},
   "source": [
    "# Range"
   ]
  },
  {
   "cell_type": "markdown",
   "id": "bf31172b",
   "metadata": {},
   "source": [
    "#### The difference between the smallest and largest values\n",
    "#### The bigger the range the more spread out is the date"
   ]
  },
  {
   "cell_type": "markdown",
   "id": "79f01e80",
   "metadata": {},
   "source": [
    "### Range = Max - Min\n",
    "### IQR = Q3 - Q1\n"
   ]
  },
  {
   "cell_type": "markdown",
   "id": "e2dd5573",
   "metadata": {},
   "source": [
    "# Varience\n"
   ]
  },
  {
   "cell_type": "code",
   "execution_count": 17,
   "id": "b9ecd853",
   "metadata": {},
   "outputs": [],
   "source": [
    "import pandas as pd\n",
    "import numpy as np"
   ]
  },
  {
   "cell_type": "code",
   "execution_count": 5,
   "id": "8b2b08a4",
   "metadata": {},
   "outputs": [
    {
     "data": {
      "text/html": [
       "<div>\n",
       "<style scoped>\n",
       "    .dataframe tbody tr th:only-of-type {\n",
       "        vertical-align: middle;\n",
       "    }\n",
       "\n",
       "    .dataframe tbody tr th {\n",
       "        vertical-align: top;\n",
       "    }\n",
       "\n",
       "    .dataframe thead th {\n",
       "        text-align: right;\n",
       "    }\n",
       "</style>\n",
       "<table border=\"1\" class=\"dataframe\">\n",
       "  <thead>\n",
       "    <tr style=\"text-align: right;\">\n",
       "      <th></th>\n",
       "      <th>Student</th>\n",
       "      <th>Overall Marks</th>\n",
       "      <th>Gender</th>\n",
       "      <th>Subject</th>\n",
       "    </tr>\n",
       "  </thead>\n",
       "  <tbody>\n",
       "    <tr>\n",
       "      <th>0</th>\n",
       "      <td>Anish</td>\n",
       "      <td>9700</td>\n",
       "      <td>Male</td>\n",
       "      <td>English</td>\n",
       "    </tr>\n",
       "    <tr>\n",
       "      <th>1</th>\n",
       "      <td>Rishabh</td>\n",
       "      <td>83</td>\n",
       "      <td>Male</td>\n",
       "      <td>English</td>\n",
       "    </tr>\n",
       "    <tr>\n",
       "      <th>2</th>\n",
       "      <td>Ajay</td>\n",
       "      <td>78</td>\n",
       "      <td>Male</td>\n",
       "      <td>Physics</td>\n",
       "    </tr>\n",
       "    <tr>\n",
       "      <th>3</th>\n",
       "      <td>Abhinav</td>\n",
       "      <td>86</td>\n",
       "      <td>Male</td>\n",
       "      <td>Chemistry</td>\n",
       "    </tr>\n",
       "    <tr>\n",
       "      <th>4</th>\n",
       "      <td>Anurag</td>\n",
       "      <td>91</td>\n",
       "      <td>Male</td>\n",
       "      <td>English</td>\n",
       "    </tr>\n",
       "  </tbody>\n",
       "</table>\n",
       "</div>"
      ],
      "text/plain": [
       "   Student  Overall Marks Gender    Subject\n",
       "0    Anish           9700   Male    English\n",
       "1  Rishabh             83   Male    English\n",
       "2     Ajay             78   Male    Physics\n",
       "3  Abhinav             86   Male  Chemistry\n",
       "4   Anurag             91   Male    English"
      ]
     },
     "execution_count": 5,
     "metadata": {},
     "output_type": "execute_result"
    }
   ],
   "source": [
    "data = pd.read_csv(\"variance.csv\")\n",
    "data.head()"
   ]
  },
  {
   "cell_type": "code",
   "execution_count": 8,
   "id": "0ef6588e",
   "metadata": {},
   "outputs": [],
   "source": [
    " mean = data[\"Overall Marks\"].mean()"
   ]
  },
  {
   "cell_type": "code",
   "execution_count": 10,
   "id": "3c93d3ae",
   "metadata": {},
   "outputs": [],
   "source": [
    "difference = data[\"Overall Marks\"] - mean"
   ]
  },
  {
   "cell_type": "code",
   "execution_count": 11,
   "id": "1960bb11",
   "metadata": {},
   "outputs": [],
   "source": [
    "squared_difference = difference ** 2"
   ]
  },
  {
   "cell_type": "code",
   "execution_count": 13,
   "id": "92bb989c",
   "metadata": {},
   "outputs": [],
   "source": [
    "varience = squared_difference.mean()"
   ]
  },
  {
   "cell_type": "code",
   "execution_count": 14,
   "id": "2a9f11b8",
   "metadata": {},
   "outputs": [
    {
     "name": "stdout",
     "output_type": "stream",
     "text": [
      "919170.8424000001\n"
     ]
    }
   ],
   "source": [
    "print(varience)"
   ]
  },
  {
   "cell_type": "code",
   "execution_count": 15,
   "id": "e73835fd",
   "metadata": {},
   "outputs": [],
   "source": [
    "var_data = data[\"Overall Marks\"].var(ddof = 0)"
   ]
  },
  {
   "cell_type": "code",
   "execution_count": 16,
   "id": "4b8b1f24",
   "metadata": {},
   "outputs": [
    {
     "name": "stdout",
     "output_type": "stream",
     "text": [
      "919170.8424000001\n"
     ]
    }
   ],
   "source": [
    "print(var_data)"
   ]
  },
  {
   "cell_type": "code",
   "execution_count": 18,
   "id": "65956421",
   "metadata": {},
   "outputs": [],
   "source": [
    "a = np.array([7,6,8,4,2,7,6,7,6,5])"
   ]
  },
  {
   "cell_type": "code",
   "execution_count": 19,
   "id": "8a292c62",
   "metadata": {},
   "outputs": [],
   "source": [
    "v = a.var(ddof = 0)"
   ]
  },
  {
   "cell_type": "code",
   "execution_count": 20,
   "id": "f4fd3906",
   "metadata": {},
   "outputs": [
    {
     "name": "stdout",
     "output_type": "stream",
     "text": [
      "2.7600000000000002\n"
     ]
    }
   ],
   "source": [
    "print(v)"
   ]
  },
  {
   "cell_type": "markdown",
   "id": "585db463",
   "metadata": {},
   "source": [
    "# Standard Daviation"
   ]
  },
  {
   "cell_type": "code",
   "execution_count": 21,
   "id": "3936a7b6",
   "metadata": {},
   "outputs": [
    {
     "name": "stdout",
     "output_type": "stream",
     "text": [
      "164.24\n"
     ]
    }
   ],
   "source": [
    "print(mean)"
   ]
  },
  {
   "cell_type": "code",
   "execution_count": 31,
   "id": "93e47322",
   "metadata": {},
   "outputs": [
    {
     "name": "stdout",
     "output_type": "stream",
     "text": [
      "958.7339789534948\n"
     ]
    }
   ],
   "source": [
    "standard_daviation = varience ** (1/2)\n",
    "print(standard_daviation)"
   ]
  },
  {
   "cell_type": "code",
   "execution_count": 32,
   "id": "518cc101",
   "metadata": {},
   "outputs": [
    {
     "name": "stdout",
     "output_type": "stream",
     "text": [
      "919170.8424000001\n"
     ]
    }
   ],
   "source": [
    "print(var_data)"
   ]
  },
  {
   "cell_type": "code",
   "execution_count": 33,
   "id": "f1ed0754",
   "metadata": {},
   "outputs": [],
   "source": [
    "std = data[\"Overall Marks\"].std(ddof = 0)"
   ]
  },
  {
   "cell_type": "code",
   "execution_count": 34,
   "id": "c4913ce8",
   "metadata": {},
   "outputs": [
    {
     "name": "stdout",
     "output_type": "stream",
     "text": [
      "958.7339789534948\n"
     ]
    }
   ],
   "source": [
    "print (std)"
   ]
  },
  {
   "cell_type": "code",
   "execution_count": null,
   "id": "e82f115e",
   "metadata": {},
   "outputs": [],
   "source": []
  },
  {
   "cell_type": "code",
   "execution_count": null,
   "id": "f5f86aa9",
   "metadata": {},
   "outputs": [],
   "source": []
  }
 ],
 "metadata": {
  "kernelspec": {
   "display_name": "Python 3 (ipykernel)",
   "language": "python",
   "name": "python3"
  },
  "language_info": {
   "codemirror_mode": {
    "name": "ipython",
    "version": 3
   },
   "file_extension": ".py",
   "mimetype": "text/x-python",
   "name": "python",
   "nbconvert_exporter": "python",
   "pygments_lexer": "ipython3",
   "version": "3.10.1"
  }
 },
 "nbformat": 4,
 "nbformat_minor": 5
}
