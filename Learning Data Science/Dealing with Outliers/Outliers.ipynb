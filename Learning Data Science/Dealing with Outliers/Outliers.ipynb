{
 "cells": [
  {
   "cell_type": "markdown",
   "id": "2a415d2c",
   "metadata": {},
   "source": [
    "## Outliers are nothing but errors in the data values which effects the mean largely....\n",
    "### Typos, Measurement errors, Intentional error, legit outliers, etc,.\n"
   ]
  },
  {
   "cell_type": "code",
   "execution_count": 5,
   "id": "d234e3b1",
   "metadata": {},
   "outputs": [],
   "source": [
    "import pandas as pd"
   ]
  },
  {
   "cell_type": "code",
   "execution_count": 6,
   "id": "16fdfbea",
   "metadata": {},
   "outputs": [],
   "source": [
    "df = pd.read_csv('Median.csv') "
   ]
  },
  {
   "cell_type": "code",
   "execution_count": 7,
   "id": "6237ede2",
   "metadata": {},
   "outputs": [
    {
     "data": {
      "text/html": [
       "<div>\n",
       "<style scoped>\n",
       "    .dataframe tbody tr th:only-of-type {\n",
       "        vertical-align: middle;\n",
       "    }\n",
       "\n",
       "    .dataframe tbody tr th {\n",
       "        vertical-align: top;\n",
       "    }\n",
       "\n",
       "    .dataframe thead th {\n",
       "        text-align: right;\n",
       "    }\n",
       "</style>\n",
       "<table border=\"1\" class=\"dataframe\">\n",
       "  <thead>\n",
       "    <tr style=\"text-align: right;\">\n",
       "      <th></th>\n",
       "      <th>Student</th>\n",
       "      <th>Overall Marks</th>\n",
       "      <th>Gender</th>\n",
       "      <th>Subject</th>\n",
       "    </tr>\n",
       "  </thead>\n",
       "  <tbody>\n",
       "    <tr>\n",
       "      <th>0</th>\n",
       "      <td>Anish</td>\n",
       "      <td>9700</td>\n",
       "      <td>Male</td>\n",
       "      <td>English</td>\n",
       "    </tr>\n",
       "    <tr>\n",
       "      <th>1</th>\n",
       "      <td>Rishabh</td>\n",
       "      <td>83</td>\n",
       "      <td>Male</td>\n",
       "      <td>English</td>\n",
       "    </tr>\n",
       "    <tr>\n",
       "      <th>2</th>\n",
       "      <td>Ajay</td>\n",
       "      <td>78</td>\n",
       "      <td>Male</td>\n",
       "      <td>Physics</td>\n",
       "    </tr>\n",
       "    <tr>\n",
       "      <th>3</th>\n",
       "      <td>Abhinav</td>\n",
       "      <td>86</td>\n",
       "      <td>Male</td>\n",
       "      <td>Chemistry</td>\n",
       "    </tr>\n",
       "    <tr>\n",
       "      <th>4</th>\n",
       "      <td>Anurag</td>\n",
       "      <td>91</td>\n",
       "      <td>Male</td>\n",
       "      <td>English</td>\n",
       "    </tr>\n",
       "  </tbody>\n",
       "</table>\n",
       "</div>"
      ],
      "text/plain": [
       "   Student  Overall Marks Gender    Subject\n",
       "0    Anish           9700   Male    English\n",
       "1  Rishabh             83   Male    English\n",
       "2     Ajay             78   Male    Physics\n",
       "3  Abhinav             86   Male  Chemistry\n",
       "4   Anurag             91   Male    English"
      ]
     },
     "execution_count": 7,
     "metadata": {},
     "output_type": "execute_result"
    }
   ],
   "source": [
    "df.head()"
   ]
  },
  {
   "cell_type": "code",
   "execution_count": 10,
   "id": "01501324",
   "metadata": {},
   "outputs": [],
   "source": [
    "median_data = df['Overall Marks'].median()"
   ]
  },
  {
   "cell_type": "code",
   "execution_count": 11,
   "id": "8c88939e",
   "metadata": {},
   "outputs": [
    {
     "name": "stdout",
     "output_type": "stream",
     "text": [
      "77.0\n"
     ]
    }
   ],
   "source": [
    "print(median_data)"
   ]
  },
  {
   "cell_type": "code",
   "execution_count": 16,
   "id": "ee4df0c9",
   "metadata": {},
   "outputs": [],
   "source": [
    "Q1 = df['Overall Marks'].quantile(.25)\n",
    "Q2 = df['Overall Marks'].quantile(.5)\n",
    "Q3 = df['Overall Marks'].quantile(.75)\n",
    "Q4 = df['Overall Marks'].quantile(1)"
   ]
  },
  {
   "cell_type": "code",
   "execution_count": 17,
   "id": "8eb7005c",
   "metadata": {},
   "outputs": [
    {
     "name": "stdout",
     "output_type": "stream",
     "text": [
      "1st Quantile : 57.25\n",
      "2nd Quantile : 77.0\n",
      "3rd Quantile : 87.25\n",
      "4th Quantile : 9700.0\n"
     ]
    }
   ],
   "source": [
    "print(\"1st Quantile :\",Q1)\n",
    "print(\"2nd Quantile :\",Q2)\n",
    "print(\"3rd Quantile :\",Q3)\n",
    "print(\"4th Quantile :\",Q4)"
   ]
  },
  {
   "cell_type": "code",
   "execution_count": null,
   "id": "bbeec18b",
   "metadata": {},
   "outputs": [],
   "source": []
  }
 ],
 "metadata": {
  "kernelspec": {
   "display_name": "Python 3 (ipykernel)",
   "language": "python",
   "name": "python3"
  },
  "language_info": {
   "codemirror_mode": {
    "name": "ipython",
    "version": 3
   },
   "file_extension": ".py",
   "mimetype": "text/x-python",
   "name": "python",
   "nbconvert_exporter": "python",
   "pygments_lexer": "ipython3",
   "version": "3.10.1"
  }
 },
 "nbformat": 4,
 "nbformat_minor": 5
}
