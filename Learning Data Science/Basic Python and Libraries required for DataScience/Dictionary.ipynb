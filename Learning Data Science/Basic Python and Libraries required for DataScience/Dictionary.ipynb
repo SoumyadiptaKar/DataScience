{
 "cells": [
  {
   "cell_type": "markdown",
   "id": "12af990d",
   "metadata": {},
   "source": [
    "## A dictionary is an un-ordered data structure with elements seperated with elements seperated by comma and stored as key: value pair. A dictionary is enclosed with curly brackets."
   ]
  },
  {
   "cell_type": "code",
   "execution_count": 4,
   "id": "a26b8075",
   "metadata": {},
   "outputs": [],
   "source": [
    "dict1={'Ramesh':150,'Suresh':146,'Suresh':160}"
   ]
  },
  {
   "cell_type": "code",
   "execution_count": 9,
   "id": "d3b26884",
   "metadata": {},
   "outputs": [],
   "source": [
    "dict2={'Ramesh':[150,46],'Suresh':[146,58],'Sudesh':[160,50]}"
   ]
  },
  {
   "cell_type": "code",
   "execution_count": 10,
   "id": "2eafc9fd",
   "metadata": {},
   "outputs": [
    {
     "data": {
      "text/plain": [
       "[146, 58]"
      ]
     },
     "execution_count": 10,
     "metadata": {},
     "output_type": "execute_result"
    }
   ],
   "source": [
    "dict2['Suresh']"
   ]
  },
  {
   "cell_type": "code",
   "execution_count": 11,
   "id": "14eb8baf",
   "metadata": {},
   "outputs": [],
   "source": [
    "dict2['Neeraj']=[176,75]#Adding single element"
   ]
  },
  {
   "cell_type": "code",
   "execution_count": 12,
   "id": "effb0e34",
   "metadata": {},
   "outputs": [
    {
     "data": {
      "text/plain": [
       "{'Ramesh': [150, 46],\n",
       " 'Suresh': [146, 58],\n",
       " 'Sudesh': [160, 50],\n",
       " 'Neeraj': [176, 75]}"
      ]
     },
     "execution_count": 12,
     "metadata": {},
     "output_type": "execute_result"
    }
   ],
   "source": [
    "dict2"
   ]
  },
  {
   "cell_type": "code",
   "execution_count": 13,
   "id": "1aa75b07",
   "metadata": {},
   "outputs": [],
   "source": [
    "dict2.update({'Sunil':[150,70],'Disha':[155,80]})"
   ]
  },
  {
   "cell_type": "code",
   "execution_count": 14,
   "id": "cd492696",
   "metadata": {},
   "outputs": [
    {
     "data": {
      "text/plain": [
       "{'Ramesh': [150, 46],\n",
       " 'Suresh': [146, 58],\n",
       " 'Sudesh': [160, 50],\n",
       " 'Neeraj': [176, 75],\n",
       " 'Sunil': [150, 70],\n",
       " 'Disha': [155, 80]}"
      ]
     },
     "execution_count": 14,
     "metadata": {},
     "output_type": "execute_result"
    }
   ],
   "source": [
    "dict2"
   ]
  },
  {
   "cell_type": "code",
   "execution_count": 15,
   "id": "82468fb2",
   "metadata": {},
   "outputs": [],
   "source": [
    "del dict2['Ramesh']"
   ]
  },
  {
   "cell_type": "code",
   "execution_count": 16,
   "id": "1d7b7b61",
   "metadata": {},
   "outputs": [
    {
     "data": {
      "text/plain": [
       "{'Suresh': [146, 58],\n",
       " 'Sudesh': [160, 50],\n",
       " 'Neeraj': [176, 75],\n",
       " 'Sunil': [150, 70],\n",
       " 'Disha': [155, 80]}"
      ]
     },
     "execution_count": 16,
     "metadata": {},
     "output_type": "execute_result"
    }
   ],
   "source": [
    "dict2"
   ]
  }
 ],
 "metadata": {
  "kernelspec": {
   "display_name": "Python 3 (ipykernel)",
   "language": "python",
   "name": "python3"
  },
  "language_info": {
   "codemirror_mode": {
    "name": "ipython",
    "version": 3
   },
   "file_extension": ".py",
   "mimetype": "text/x-python",
   "name": "python",
   "nbconvert_exporter": "python",
   "pygments_lexer": "ipython3",
   "version": "3.10.1"
  }
 },
 "nbformat": 4,
 "nbformat_minor": 5
}
