{
 "cells": [
  {
   "cell_type": "markdown",
   "id": "309fe2d1",
   "metadata": {},
   "source": [
    "# A list is an ordered data structure with elements seperated by comma and enclosed within square brackets."
   ]
  },
  {
   "cell_type": "code",
   "execution_count": 34,
   "id": "9aaaa726",
   "metadata": {},
   "outputs": [],
   "source": [
    "list1=[2,3,4,5,6]\n",
    "list2=[\"Python\",\"Is\",\"Awsome\"]\n",
    "list3=[1,'Python',2,'is',3,'Awsome']"
   ]
  },
  {
   "cell_type": "code",
   "execution_count": 35,
   "id": "8833a660",
   "metadata": {},
   "outputs": [
    {
     "data": {
      "text/plain": [
       "'Python'"
      ]
     },
     "execution_count": 35,
     "metadata": {},
     "output_type": "execute_result"
    }
   ],
   "source": [
    "list3[1]"
   ]
  },
  {
   "cell_type": "code",
   "execution_count": 36,
   "id": "9420d465",
   "metadata": {},
   "outputs": [
    {
     "data": {
      "text/plain": [
       "['Python', 2, 'is']"
      ]
     },
     "execution_count": 36,
     "metadata": {},
     "output_type": "execute_result"
    }
   ],
   "source": [
    "list3[1:4]"
   ]
  },
  {
   "cell_type": "code",
   "execution_count": 37,
   "id": "3072a3ad",
   "metadata": {},
   "outputs": [
    {
     "data": {
      "text/plain": [
       "'Awsome'"
      ]
     },
     "execution_count": 37,
     "metadata": {},
     "output_type": "execute_result"
    }
   ],
   "source": [
    "list3[-1]"
   ]
  },
  {
   "cell_type": "code",
   "execution_count": 38,
   "id": "26ecd7f2",
   "metadata": {},
   "outputs": [],
   "source": [
    "list3.append(4)"
   ]
  },
  {
   "cell_type": "code",
   "execution_count": 39,
   "id": "c9c3c874",
   "metadata": {},
   "outputs": [
    {
     "data": {
      "text/plain": [
       "[1, 'Python', 2, 'is', 3, 'Awsome', 4]"
      ]
     },
     "execution_count": 39,
     "metadata": {},
     "output_type": "execute_result"
    }
   ],
   "source": [
    "list3[:]"
   ]
  },
  {
   "cell_type": "code",
   "execution_count": 40,
   "id": "06baa0b7",
   "metadata": {},
   "outputs": [],
   "source": [
    "list3.extend([5,6])"
   ]
  },
  {
   "cell_type": "code",
   "execution_count": 41,
   "id": "17b96288",
   "metadata": {},
   "outputs": [
    {
     "data": {
      "text/plain": [
       "[1, 'Python', 2, 'is', 3, 'Awsome', 4, 5, 6]"
      ]
     },
     "execution_count": 41,
     "metadata": {},
     "output_type": "execute_result"
    }
   ],
   "source": [
    "list3[:]"
   ]
  },
  {
   "cell_type": "code",
   "execution_count": 42,
   "id": "6b309568",
   "metadata": {},
   "outputs": [],
   "source": [
    "list3.append([7,8])"
   ]
  },
  {
   "cell_type": "code",
   "execution_count": 43,
   "id": "9c46054d",
   "metadata": {},
   "outputs": [
    {
     "data": {
      "text/plain": [
       "[1, 'Python', 2, 'is', 3, 'Awsome', 4, 5, 6, [7, 8]]"
      ]
     },
     "execution_count": 43,
     "metadata": {},
     "output_type": "execute_result"
    }
   ],
   "source": [
    "list3[:]"
   ]
  },
  {
   "cell_type": "code",
   "execution_count": 44,
   "id": "04a19913",
   "metadata": {},
   "outputs": [],
   "source": [
    "list3.remove(2)#removes the element 2 from the list"
   ]
  },
  {
   "cell_type": "code",
   "execution_count": 45,
   "id": "3f3b37a4",
   "metadata": {},
   "outputs": [
    {
     "data": {
      "text/plain": [
       "[1, 'Python', 'is', 3, 'Awsome', 4, 5, 6, [7, 8]]"
      ]
     },
     "execution_count": 45,
     "metadata": {},
     "output_type": "execute_result"
    }
   ],
   "source": [
    "list3[:]"
   ]
  },
  {
   "cell_type": "code",
   "execution_count": 46,
   "id": "f4bcff30",
   "metadata": {},
   "outputs": [],
   "source": [
    "del list3[2]#removes the element at index 3"
   ]
  },
  {
   "cell_type": "code",
   "execution_count": 49,
   "id": "d6bcbe29",
   "metadata": {},
   "outputs": [
    {
     "data": {
      "text/plain": [
       "[1, 'Python', 3, 'Awsome', 4, 5, 6, [7, 8]]"
      ]
     },
     "execution_count": 49,
     "metadata": {},
     "output_type": "execute_result"
    }
   ],
   "source": [
    "list3"
   ]
  },
  {
   "cell_type": "code",
   "execution_count": 48,
   "id": "7dab72ec",
   "metadata": {},
   "outputs": [
    {
     "name": "stdout",
     "output_type": "stream",
     "text": [
      "1\n",
      "Python\n",
      "3\n",
      "Awsome\n",
      "4\n",
      "5\n",
      "6\n",
      "[7, 8]\n"
     ]
    }
   ],
   "source": [
    "for i in list3:\n",
    "    print(i)"
   ]
  },
  {
   "cell_type": "code",
   "execution_count": null,
   "id": "32fdfc9e",
   "metadata": {},
   "outputs": [],
   "source": []
  }
 ],
 "metadata": {
  "kernelspec": {
   "display_name": "Python 3 (ipykernel)",
   "language": "python",
   "name": "python3"
  },
  "language_info": {
   "codemirror_mode": {
    "name": "ipython",
    "version": 3
   },
   "file_extension": ".py",
   "mimetype": "text/x-python",
   "name": "python",
   "nbconvert_exporter": "python",
   "pygments_lexer": "ipython3",
   "version": "3.10.1"
  }
 },
 "nbformat": 4,
 "nbformat_minor": 5
}
