{
 "cells": [
  {
   "cell_type": "markdown",
   "id": "444cbfb6",
   "metadata": {},
   "source": [
    "## Write a for loop to print all the numbers between 10 and 50\n"
   ]
  },
  {
   "cell_type": "code",
   "execution_count": 5,
   "id": "24e2efd4",
   "metadata": {},
   "outputs": [
    {
     "name": "stdout",
     "output_type": "stream",
     "text": [
      "10\n",
      "12\n",
      "14\n",
      "16\n",
      "18\n",
      "20\n",
      "22\n",
      "24\n",
      "26\n",
      "28\n",
      "30\n",
      "32\n",
      "34\n",
      "36\n",
      "38\n",
      "40\n",
      "42\n",
      "44\n",
      "46\n",
      "48\n",
      "50\n"
     ]
    }
   ],
   "source": [
    "for i in range(10,51):\n",
    "    print(i)"
   ]
  },
  {
   "cell_type": "markdown",
   "id": "a523e2d4",
   "metadata": {},
   "source": [
    "## Write a for loop to print all the odd numbers between 10 and 50"
   ]
  },
  {
   "cell_type": "code",
   "execution_count": 6,
   "id": "8e74cb49",
   "metadata": {},
   "outputs": [
    {
     "name": "stdout",
     "output_type": "stream",
     "text": [
      "11\n",
      "13\n",
      "15\n",
      "17\n",
      "19\n",
      "21\n",
      "23\n",
      "25\n",
      "27\n",
      "29\n",
      "31\n",
      "33\n",
      "35\n",
      "37\n",
      "39\n",
      "41\n",
      "43\n",
      "45\n",
      "47\n",
      "49\n"
     ]
    }
   ],
   "source": [
    "for i in range(11,50,2):\n",
    "    print(i)"
   ]
  },
  {
   "cell_type": "markdown",
   "id": "cfaae4e4",
   "metadata": {},
   "source": [
    "## Functions"
   ]
  },
  {
   "cell_type": "code",
   "execution_count": 7,
   "id": "4729f26c",
   "metadata": {},
   "outputs": [
    {
     "data": {
      "text/plain": [
       "314.0"
      ]
     },
     "execution_count": 7,
     "metadata": {},
     "output_type": "execute_result"
    }
   ],
   "source": [
    "def area_circle(radius):\n",
    "    area= 3.14*radius**2\n",
    "    return area\n",
    "area_circle(10)"
   ]
  },
  {
   "cell_type": "markdown",
   "id": "cbdaec5f",
   "metadata": {},
   "source": [
    "## Create a function that takes two numbers and returns the greater of the two."
   ]
  },
  {
   "cell_type": "code",
   "execution_count": 8,
   "id": "427873c8",
   "metadata": {},
   "outputs": [
    {
     "data": {
      "text/plain": [
       "20"
      ]
     },
     "execution_count": 8,
     "metadata": {},
     "output_type": "execute_result"
    }
   ],
   "source": [
    "def compare(a,b):\n",
    "    if(a>b):\n",
    "        return a\n",
    "    else:\n",
    "        return b\n",
    "compare(10,20)"
   ]
  },
  {
   "cell_type": "code",
   "execution_count": 9,
   "id": "a2000fa5",
   "metadata": {},
   "outputs": [],
   "source": [
    "def odd(a):\n",
    "    if a%2==0:\n",
    "        b=\"not odd\"\n",
    "    else:\n",
    "        b=\"odd\"\n",
    "    return (b)"
   ]
  },
  {
   "cell_type": "code",
   "execution_count": 10,
   "id": "b8a01fcc",
   "metadata": {},
   "outputs": [
    {
     "data": {
      "text/plain": [
       "'odd'"
      ]
     },
     "execution_count": 10,
     "metadata": {},
     "output_type": "execute_result"
    }
   ],
   "source": [
    "odd(9)"
   ]
  },
  {
   "cell_type": "code",
   "execution_count": null,
   "id": "047d2bb0",
   "metadata": {},
   "outputs": [],
   "source": []
  }
 ],
 "metadata": {
  "kernelspec": {
   "display_name": "Python 3 (ipykernel)",
   "language": "python",
   "name": "python3"
  },
  "language_info": {
   "codemirror_mode": {
    "name": "ipython",
    "version": 3
   },
   "file_extension": ".py",
   "mimetype": "text/x-python",
   "name": "python",
   "nbconvert_exporter": "python",
   "pygments_lexer": "ipython3",
   "version": "3.10.1"
  }
 },
 "nbformat": 4,
 "nbformat_minor": 5
}
